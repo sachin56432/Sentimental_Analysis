{
 "cells": [
  {
   "cell_type": "code",
   "execution_count": 1,
   "id": "c8b45548-9d2f-44c5-82b7-622fb1376bff",
   "metadata": {},
   "outputs": [],
   "source": [
    "import pandas as pd\n",
    "data = pd.read_csv('Womens Clothing E-Commerce Reviews.csv')\n"
   ]
  },
  {
   "cell_type": "code",
   "execution_count": 2,
   "id": "66b73d6a-6f56-42eb-8964-c747f43b049f",
   "metadata": {},
   "outputs": [],
   "source": [
    "#rename data -columns\n",
    "data=data.rename(columns={'Review Text':'Reviews'})"
   ]
  },
  {
   "cell_type": "code",
   "execution_count": 3,
   "id": "c1509ba7-68b1-4f25-8b21-8ac0e383acbf",
   "metadata": {},
   "outputs": [
    {
     "data": {
      "text/plain": [
       "Unnamed: 0                 0\n",
       "Clothing ID                0\n",
       "Age                        0\n",
       "Title                      0\n",
       "Reviews                    0\n",
       "Rating                     0\n",
       "Recommended IND            0\n",
       "Positive Feedback Count    0\n",
       "Division Name              0\n",
       "Department Name            0\n",
       "Class Name                 0\n",
       "dtype: int64"
      ]
     },
     "execution_count": 3,
     "metadata": {},
     "output_type": "execute_result"
    }
   ],
   "source": [
    "#remove missing values \n",
    "data=data.dropna()\n",
    "data.reset_index(drop=True,inplace=True)\n",
    "data.isna().sum()"
   ]
  },
  {
   "cell_type": "code",
   "execution_count": 4,
   "id": "4e8e75d1-30a7-4a40-a663-c04ad5bb7cd8",
   "metadata": {},
   "outputs": [
    {
     "name": "stdout",
     "output_type": "stream",
     "text": [
      "<class 'pandas.core.frame.DataFrame'>\n",
      "RangeIndex: 19662 entries, 0 to 19661\n",
      "Data columns (total 2 columns):\n",
      " #   Column   Non-Null Count  Dtype \n",
      "---  ------   --------------  ----- \n",
      " 0   Reviews  19662 non-null  object\n",
      " 1   Rating   19662 non-null  int64 \n",
      "dtypes: int64(1), object(1)\n",
      "memory usage: 307.3+ KB\n"
     ]
    }
   ],
   "source": [
    "# dropping extra columns\n",
    "data = data.drop([\"Clothing ID\", \"Division Name\", \"Department Name\", \"Class Name\", \"Title\", \"Age\", \n",
    "                  \"Positive Feedback Count\", \"Recommended IND\", \"Unnamed: 0\", ], axis=1)\n",
    "\n",
    "data.info()"
   ]
  },
  {
   "cell_type": "code",
   "execution_count": 5,
   "id": "73839056-ec91-4b18-b89c-365871b934ef",
   "metadata": {},
   "outputs": [
    {
     "name": "stdout",
     "output_type": "stream",
     "text": [
      "                                                 Reviews  Rating\n",
      "0      I had such high hopes for this dress and reall...       3\n",
      "1      I love, love, love this jumpsuit. it's fun, fl...       5\n",
      "2      This shirt is very flattering to all due to th...       5\n",
      "3      I love tracy reese dresses, but this one is no...       2\n",
      "4      I aded this in my basket at hte last mintue to...       5\n",
      "...                                                  ...     ...\n",
      "19657  I was very happy to snag this dress at such a ...       5\n",
      "19658  It reminds me of maternity clothes. soft, stre...       3\n",
      "19659  This fit well, but the top was very see throug...       3\n",
      "19660  I bought this dress for a wedding i have this ...       3\n",
      "19661  This dress in a lovely platinum is feminine an...       5\n",
      "\n",
      "[19662 rows x 2 columns]\n"
     ]
    }
   ],
   "source": [
    "print(data)"
   ]
  },
  {
   "cell_type": "code",
   "execution_count": 6,
   "id": "f3027d28-e810-464b-8db1-d9b051cf91cb",
   "metadata": {},
   "outputs": [],
   "source": [
    "import re\n",
    "from nltk.corpus import stopwords\n",
    "from nltk.tokenize import word_tokenize\n",
    "from nltk.stem import WordNetLemmatizer\n",
    "\n",
    "# Tokenization and stopword removal function\n",
    "def rem_stopwords_tokenize(data, name):\n",
    "    def getting(sen):\n",
    "        filtered_sentence = []\n",
    "        stop_words = set(stopwords.words('english'))\n",
    "        word_tokens = word_tokenize(sen)\n",
    "        filtered_sentence = [w for w in word_tokens if not w in stop_words]\n",
    "        return filtered_sentence\n",
    "    \n",
    "    x = []\n",
    "    for i in data[name].values:\n",
    "        x.append(getting(i))\n",
    "    data[name] = x\n",
    "\n",
    "# Lemmatization function\n",
    "lemmatizer = WordNetLemmatizer()\n",
    "\n",
    "def Lemmatization(data, name):\n",
    "    def getting2(sen):\n",
    "        output_sentence = []\n",
    "        word_tokens2 = word_tokenize(sen)\n",
    "        lemmatized_output = [lemmatizer.lemmatize(w) for w in word_tokens2]\n",
    "        without_single_chr = [word for word in lemmatized_output if len(word) > 2]\n",
    "        cleaned_data_title = [word for word in without_single_chr if not word.isnumeric()]\n",
    "        return cleaned_data_title\n",
    "    \n",
    "    x = []\n",
    "    for i in data[name].values:\n",
    "        x.append(getting2(i))\n",
    "    data[name] = x\n",
    "\n",
    "# Convert tokenized data back to sentences\n",
    "def make_sentences(data, name):\n",
    "    data[name] = data[name].apply(lambda x: ' '.join([i for i in x]))\n",
    "    data[name] = data[name].apply(lambda x: re.sub(r'\\s+', ' ', x, flags=re.I))\n",
    "\n"
   ]
  },
  {
   "cell_type": "code",
   "execution_count": null,
   "id": "5f436ef2-85a2-45b0-b7f0-79cdeb390bdc",
   "metadata": {},
   "outputs": [
    {
     "name": "stderr",
     "output_type": "stream",
     "text": [
      "[nltk_data] Downloading package punkt to\n",
      "[nltk_data]     C:\\Users\\Sachin\\AppData\\Roaming\\nltk_data...\n",
      "[nltk_data]   Package punkt is already up-to-date!\n",
      "[nltk_data] Downloading package averaged_perceptron_tagger to\n",
      "[nltk_data]     C:\\Users\\Sachin\\AppData\\Roaming\\nltk_data...\n",
      "[nltk_data]   Package averaged_perceptron_tagger is already up-to-\n",
      "[nltk_data]       date!\n",
      "[nltk_data] Downloading package wordnet to\n",
      "[nltk_data]     C:\\Users\\Sachin\\AppData\\Roaming\\nltk_data...\n",
      "[nltk_data]   Package wordnet is already up-to-date!\n",
      "[nltk_data] Downloading package sentiwordnet to\n",
      "[nltk_data]     C:\\Users\\Sachin\\AppData\\Roaming\\nltk_data...\n",
      "[nltk_data]   Package sentiwordnet is already up-to-date!\n"
     ]
    }
   ],
   "source": [
    "import nltk\n",
    "from nltk.corpus import wordnet as wn, sentiwordnet as swn\n",
    "from nltk.tokenize import word_tokenize\n",
    "from nltk.stem import WordNetLemmatizer\n",
    "\n",
    "# Make sure you have downloaded the necessary NLTK data files\n",
    "nltk.download('punkt')\n",
    "nltk.download('averaged_perceptron_tagger')\n",
    "nltk.download('wordnet')\n",
    "nltk.download('sentiwordnet')\n",
    "\n",
    "pos=neg=obj=count=0\n",
    "\n",
    "postagging = []\n",
    "\n",
    "for review in data['Reviews']:\n",
    "    list = word_tokenize(review)\n",
    "    postagging.append(nltk.pos_tag(list))\n",
    "\n",
    "data['pos_tags'] = postagging\n",
    "\n",
    "def penn_to_wn(tag):\n",
    "    if tag.startswith('J'):\n",
    "        return wn.ADJ\n",
    "    elif tag.startswith('N'):\n",
    "        return wn.NOUN\n",
    "    elif tag.startswith('R'):\n",
    "        return wn.ADV\n",
    "    elif tag.startswith('V'):\n",
    "        return wn.VERB\n",
    "    return None\n",
    "\n",
    "# Returns list of pos–neg and objective score. But returns empty list if not present in senti wordnet.\n",
    "def get_sentiment(word, tag):\n",
    "    wn_tag = penn_to_wn(tag)\n",
    "    \n",
    "    if wn_tag not in (wn.NOUN, wn.ADJ, wn.ADV):\n",
    "        return []\n",
    "    \n",
    "    # Lemmatization\n",
    "    lemma = lemmatizer.lemmatize(word, pos=wn_tag)\n",
    "    if not lemma:\n",
    "        return []\n",
    "\n",
    "    # SentiWordNet is a lexical resource for opinion mining. SentiWordNet assigns to each synset of WordNet three sentiment scores: positivity, negativity, and objectivity.\n",
    "    # Synset is a special kind of a simple interface that is present in NLTK to look up words in WordNet.\n",
    "    # Synset instances are the groupings of synonymous words that express the same concept.\n",
    "    # Some of the words have only one Synset and some have several.\n",
    "    synsets = wn.synsets(word, pos=wn_tag)\n",
    "    if not synsets:\n",
    "        return []\n",
    "    \n",
    "    # Take the first sense, the most common\n",
    "    synset = synsets[0]\n",
    "    swn_synset = swn.senti_synset(synset.name())\n",
    "\n",
    "    return [synset.name(), swn_synset.pos_score(), swn_synset.neg_score(), swn_synset.obj_score()]\n",
    "\n",
    "pos=neg=obj=count=0\n",
    "\n",
    "###########################################################\n",
    "\n",
    "senti_score = []\n",
    "\n",
    "for pos_val in data['pos_tags']:\n",
    "    senti_val = [get_sentiment(x,y) for (x,y) in pos_val]\n",
    "    for score in senti_val:\n",
    "        try:\n",
    "            pos = pos + score[1] #positive score is stored at 2nd position\n",
    "            neg = neg + score[2] #negative score is stored at 3rd position\n",
    "        except:\n",
    "            continue\n",
    "    senti_score.append(pos - neg)\n",
    "    pos=neg=0\n"
   ]
  },
  {
   "cell_type": "code",
   "execution_count": 10,
   "id": "e83234c9-3491-4f1c-8dd7-e31bdb8fbabd",
   "metadata": {},
   "outputs": [
    {
     "name": "stdout",
     "output_type": "stream",
     "text": [
      "                                                 Reviews  Rating\n",
      "0      I had such high hopes for this dress and reall...       3\n",
      "1      I love, love, love this jumpsuit. it's fun, fl...       5\n",
      "2      This shirt is very flattering to all due to th...       5\n",
      "3      I love tracy reese dresses, but this one is no...       2\n",
      "4      I aded this in my basket at hte last mintue to...       5\n",
      "...                                                  ...     ...\n",
      "19657  I was very happy to snag this dress at such a ...       5\n",
      "19658  It reminds me of maternity clothes. soft, stre...       3\n",
      "19659  This fit well, but the top was very see throug...       3\n",
      "19660  I bought this dress for a wedding i have this ...       3\n",
      "19661  This dress in a lovely platinum is feminine an...       5\n",
      "\n",
      "[19662 rows x 2 columns]\n"
     ]
    }
   ],
   "source": [
    "print(data)"
   ]
  },
  {
   "cell_type": "code",
   "execution_count": 1,
   "id": "a1603be1-4cff-4cd8-94ab-317d24fcdad4",
   "metadata": {},
   "outputs": [
    {
     "name": "stdout",
     "output_type": "stream",
     "text": [
      "   Unnamed: 0  Clothing ID  Age                    Title  \\\n",
      "0           0          767   33                      NaN   \n",
      "1           1         1080   34                      NaN   \n",
      "2           2         1077   60  Some major design flaws   \n",
      "3           3         1049   50         My favorite buy!   \n",
      "4           4          847   47         Flattering shirt   \n",
      "\n",
      "                                         Review Text Rating  Recommended IND  \\\n",
      "0  Absolutely wonderful - silky and sexy and comf...      1                1   \n",
      "1  Love this dress!  it's sooo pretty.  i happene...      1                1   \n",
      "2  I had such high hopes for this dress and reall...      0                0   \n",
      "3  I love, love, love this jumpsuit. it's fun, fl...      1                1   \n",
      "4  This shirt is very flattering to all due to th...      1                1   \n",
      "\n",
      "   Positive Feedback Count   Division Name Department Name Class Name  \n",
      "0                        0       Initmates        Intimate  Intimates  \n",
      "1                        4         General         Dresses    Dresses  \n",
      "2                        0         General         Dresses    Dresses  \n",
      "3                        0  General Petite         Bottoms      Pants  \n",
      "4                        6         General            Tops    Blouses  \n"
     ]
    },
    {
     "data": {
      "text/plain": [
       "Reviews    0\n",
       "Rating     0\n",
       "dtype: int64"
      ]
     },
     "execution_count": 1,
     "metadata": {},
     "output_type": "execute_result"
    }
   ],
   "source": [
    "import pandas as pd\n",
    "\n",
    "\n",
    "\n",
    "# List of columns to drop\n",
    "columns_to_drop = ['pos_tags', 'senti_score']\n",
    "data= pd.read_csv('Womens Clothing E-Commerce Reviews.csv')\n",
    "# Drop columns that exist in the DataFrame\n",
    "data= data.drop(columns=[col for col in columns_to_drop if col in data.columns])\n",
    "\n",
    "# Convert ratings to sentiment\n",
    "def convert_sentiment(rating):\n",
    "    if rating <= 3:\n",
    "        return 0  # Negative\n",
    "    else:\n",
    "        return 1  # Positive\n",
    "\n",
    "# Apply the function to the 'Rating' column\n",
    "data['Rating'] = data['Rating'].apply(convert_sentiment)\n",
    "\n",
    "# Convert 'Rating' column to string\n",
    "data['Rating'] = data['Rating'].astype(str)\n",
    "\n",
    "# Print the updated DataFrame\n",
    "print(data.head())\n",
    "\n",
    "\n",
    "\n",
    "#rename data -columns\n",
    "data=data.rename(columns={'Review Text':'Reviews'})\n",
    "\n",
    "# dropping extra columns\n",
    "data = data.drop([\"Clothing ID\", \"Division Name\", \"Department Name\", \"Class Name\", \"Title\", \"Age\", \n",
    "                  \"Positive Feedback Count\", \"Recommended IND\", \"Unnamed: 0\", ], axis=1)\n",
    "\n",
    "#remove missing values \n",
    "data=data.dropna()\n",
    "data.reset_index(drop=True,inplace=True)\n",
    "data.isna().sum()"
   ]
  },
  {
   "cell_type": "code",
   "execution_count": 2,
   "id": "0960baf7-1c82-4a1a-aa4e-8779e044ec28",
   "metadata": {},
   "outputs": [],
   "source": [
    "import seaborn as sns\n",
    "import matplotlib.pyplot as plt\n"
   ]
  },
  {
   "cell_type": "code",
   "execution_count": 3,
   "id": "eac665d1-c48b-4d6e-8762-9af5d3057c6e",
   "metadata": {},
   "outputs": [
    {
     "data": {
      "image/png": "[encoded data removed]",
      "text/plain": [
       "<Figure size 640x480 with 1 Axes>"
      ]
     },
     "metadata": {},
     "output_type": "display_data"
    }
   ],
   "source": [
    "# imbalance-dataset\n",
    "sns.set(style=\"darkgrid\")\n",
    "bar = sns.countplot(x='Rating', hue='Rating', data=data, palette=\"flare\")\n",
    "bar.set_title(\"Overall Sentiment\", size=20)\n",
    "plt.show()"
   ]
  },
  {
   "cell_type": "code",
   "execution_count": 3,
   "id": "0adf2938-b61f-4895-a461-f920bb5126da",
   "metadata": {},
   "outputs": [
    {
     "name": "stdout",
     "output_type": "stream",
     "text": [
      "Index(['Reviews', 'Rating'], dtype='object')\n"
     ]
    }
   ],
   "source": [
    "print(data.columns)\n"
   ]
  },
  {
   "cell_type": "code",
   "execution_count": 4,
   "id": "10c27ae4-381d-4c81-a39c-986d09ca9269",
   "metadata": {},
   "outputs": [
    {
     "name": "stdout",
     "output_type": "stream",
     "text": [
      "                                                 Reviews Rating\n",
      "0      Absolutely wonderful - silky and sexy and comf...      1\n",
      "1      Love this dress!  it's sooo pretty.  i happene...      1\n",
      "2      I had such high hopes for this dress and reall...      0\n",
      "3      I love, love, love this jumpsuit. it's fun, fl...      1\n",
      "4      This shirt is very flattering to all due to th...      1\n",
      "...                                                  ...    ...\n",
      "22636  I was very happy to snag this dress at such a ...      1\n",
      "22637  It reminds me of maternity clothes. soft, stre...      0\n",
      "22638  This fit well, but the top was very see throug...      0\n",
      "22639  I bought this dress for a wedding i have this ...      0\n",
      "22640  This dress in a lovely platinum is feminine an...      1\n",
      "\n",
      "[22641 rows x 2 columns]\n"
     ]
    },
    {
     "data": {
      "text/html": [
       "<div>\n",
       "<style scoped>\n",
       "    .dataframe tbody tr th:only-of-type {\n",
       "        vertical-align: middle;\n",
       "    }\n",
       "\n",
       "    .dataframe tbody tr th {\n",
       "        vertical-align: top;\n",
       "    }\n",
       "\n",
       "    .dataframe thead th {\n",
       "        text-align: right;\n",
       "    }\n",
       "</style>\n",
       "<table border=\"1\" class=\"dataframe\">\n",
       "  <thead>\n",
       "    <tr style=\"text-align: right;\">\n",
       "      <th></th>\n",
       "      <th>Reviews</th>\n",
       "      <th>Rating</th>\n",
       "    </tr>\n",
       "  </thead>\n",
       "  <tbody>\n",
       "    <tr>\n",
       "      <th>0</th>\n",
       "      <td>Absolutely wonderful - silky and sexy and comf...</td>\n",
       "      <td>1</td>\n",
       "    </tr>\n",
       "    <tr>\n",
       "      <th>1</th>\n",
       "      <td>Love this dress!  it's sooo pretty.  i happene...</td>\n",
       "      <td>1</td>\n",
       "    </tr>\n",
       "    <tr>\n",
       "      <th>2</th>\n",
       "      <td>I had such high hopes for this dress and reall...</td>\n",
       "      <td>0</td>\n",
       "    </tr>\n",
       "    <tr>\n",
       "      <th>3</th>\n",
       "      <td>I love, love, love this jumpsuit. it's fun, fl...</td>\n",
       "      <td>1</td>\n",
       "    </tr>\n",
       "    <tr>\n",
       "      <th>4</th>\n",
       "      <td>This shirt is very flattering to all due to th...</td>\n",
       "      <td>1</td>\n",
       "    </tr>\n",
       "    <tr>\n",
       "      <th>...</th>\n",
       "      <td>...</td>\n",
       "      <td>...</td>\n",
       "    </tr>\n",
       "    <tr>\n",
       "      <th>22636</th>\n",
       "      <td>I was very happy to snag this dress at such a ...</td>\n",
       "      <td>1</td>\n",
       "    </tr>\n",
       "    <tr>\n",
       "      <th>22637</th>\n",
       "      <td>It reminds me of maternity clothes. soft, stre...</td>\n",
       "      <td>0</td>\n",
       "    </tr>\n",
       "    <tr>\n",
       "      <th>22638</th>\n",
       "      <td>This fit well, but the top was very see throug...</td>\n",
       "      <td>0</td>\n",
       "    </tr>\n",
       "    <tr>\n",
       "      <th>22639</th>\n",
       "      <td>I bought this dress for a wedding i have this ...</td>\n",
       "      <td>0</td>\n",
       "    </tr>\n",
       "    <tr>\n",
       "      <th>22640</th>\n",
       "      <td>This dress in a lovely platinum is feminine an...</td>\n",
       "      <td>1</td>\n",
       "    </tr>\n",
       "  </tbody>\n",
       "</table>\n",
       "<p>22641 rows × 2 columns</p>\n",
       "</div>"
      ],
      "text/plain": [
       "                                                 Reviews Rating\n",
       "0      Absolutely wonderful - silky and sexy and comf...      1\n",
       "1      Love this dress!  it's sooo pretty.  i happene...      1\n",
       "2      I had such high hopes for this dress and reall...      0\n",
       "3      I love, love, love this jumpsuit. it's fun, fl...      1\n",
       "4      This shirt is very flattering to all due to th...      1\n",
       "...                                                  ...    ...\n",
       "22636  I was very happy to snag this dress at such a ...      1\n",
       "22637  It reminds me of maternity clothes. soft, stre...      0\n",
       "22638  This fit well, but the top was very see throug...      0\n",
       "22639  I bought this dress for a wedding i have this ...      0\n",
       "22640  This dress in a lovely platinum is feminine an...      1\n",
       "\n",
       "[22641 rows x 2 columns]"
      ]
     },
     "execution_count": 4,
     "metadata": {},
     "output_type": "execute_result"
    }
   ],
   "source": [
    "print(data)\n",
    "X = data[\"Reviews\"]\n",
    "Y = data[\"Rating\"]\n",
    "data"
   ]
  },
  {
   "cell_type": "code",
   "execution_count": 5,
   "id": "e1a8d144-da4a-4f08-9bef-b75c57ce126a",
   "metadata": {},
   "outputs": [
    {
     "data": {
      "text/plain": [
       "array([['0', '1'],\n",
       "       [13958, 17448]], dtype=object)"
      ]
     },
     "execution_count": 5,
     "metadata": {},
     "output_type": "execute_result"
    }
   ],
   "source": [
    "from sklearn.feature_extraction.text import TfidfVectorizer\n",
    "from imblearn.combine import SMOTETomek\n",
    "from imblearn.under_sampling import NearMiss\n",
    "import numpy as np\n",
    "\n",
    "tf = TfidfVectorizer(min_df=0, max_df=1, use_idf=True, ngram_range=(1, 2))\n",
    "X = tf.fit_transform(X)\n",
    "\n",
    "smk = SMOTETomek(random_state=42, sampling_strategy=0.8)\n",
    "X_res, y_res = smk.fit_resample(X, Y)\n",
    "\n",
    "unique_elements, counts_elements = np.unique(y_res, return_counts=True)\n",
    "np.asarray((unique_elements, counts_elements))\n"
   ]
  },
  {
   "cell_type": "code",
   "execution_count": 7,
   "id": "49335124-eef1-40f3-b21a-9e9e637fb234",
   "metadata": {},
   "outputs": [],
   "source": [
    "from sklearn.linear_model import LogisticRegression\n",
    "from sklearn.model_selection import train_test_split\n",
    "from sklearn.metrics import classification_report\n",
    "from sklearn.metrics import confusion_matrix\n",
    "\n",
    "# Split the resampled data into training and testing sets\n",
    "X_train, X_test, y_train, y_test = train_test_split(X_res, y_res, test_size=0.2, random_state=42)\n",
    "\n",
    "# Initialize and train the logistic regression model\n",
    "logreg = LogisticRegression(max_iter=1000, random_state=42)\n",
    "logreg.fit(X_train, y_train)\n",
    "\n",
    "# Predict the test set results\n",
    "y_pred = logreg.predict(X_test)\n",
    "# Print the confusion matrix\n",
    "\n"
   ]
  },
  {
   "cell_type": "code",
   "execution_count": 8,
   "id": "9f1d4e0e-1f7a-43f3-a825-7b7ef1648cba",
   "metadata": {},
   "outputs": [
    {
     "name": "stdout",
     "output_type": "stream",
     "text": [
      "              precision    recall  f1-score   support\n",
      "\n",
      "           0       1.00      0.47      0.64      2824\n",
      "           1       0.70      1.00      0.82      3458\n",
      "\n",
      "    accuracy                           0.76      6282\n",
      "   macro avg       0.85      0.74      0.73      6282\n",
      "weighted avg       0.83      0.76      0.74      6282\n",
      "\n",
      "Confusion Matrix (Logistic Regression):\n",
      " [[1339 1485]\n",
      " [   0 3458]]\n"
     ]
    }
   ],
   "source": [
    "# Generate the classification report\n",
    "report = classification_report(y_test, y_pred)\n",
    "print(report)\n",
    "cm = confusion_matrix(y_test, y_pred)\n",
    "print(\"Confusion Matrix (Logistic Regression):\\n\", cm)"
   ]
  },
  {
   "cell_type": "code",
   "execution_count": 9,
   "id": "077c1b20-3597-4c23-bec9-8ba3e6577914",
   "metadata": {},
   "outputs": [
    {
     "name": "stdout",
     "output_type": "stream",
     "text": [
      "              precision    recall  f1-score   support\n",
      "\n",
      "           0       0.74      0.73      0.73      2824\n",
      "           1       0.78      0.79      0.79      3458\n",
      "\n",
      "    accuracy                           0.76      6282\n",
      "   macro avg       0.76      0.76      0.76      6282\n",
      "weighted avg       0.76      0.76      0.76      6282\n",
      "\n",
      "Confusion Matrix (Naive Bayes):\n",
      " [[2058  766]\n",
      " [ 718 2740]]\n"
     ]
    }
   ],
   "source": [
    "from sklearn.naive_bayes import MultinomialNB\n",
    "from sklearn.model_selection import train_test_split\n",
    "from sklearn.metrics import classification_report\n",
    "\n",
    "# Split the resampled data into training and testing sets\n",
    "X_train, X_test, y_train, y_test = train_test_split(X_res, y_res, test_size=0.2, random_state=42)\n",
    "\n",
    "# Initialize and train the Naive Bayes classifier\n",
    "nb = MultinomialNB()\n",
    "nb.fit(X_train, y_train)\n",
    "\n",
    "# Predict the test set results\n",
    "y_pred = nb.predict(X_test)\n",
    "\n",
    "# Generate the classification report\n",
    "report = classification_report(y_test, y_pred)\n",
    "print(report)\n",
    "# Print the confusion matrix\n",
    "cm = confusion_matrix(y_test, y_pred)\n",
    "print(\"Confusion Matrix (Naive Bayes):\\n\", cm)"
   ]
  },
  {
   "cell_type": "code",
   "execution_count": 10,
   "id": "ce7d8000-c7e7-436f-96a4-75f25cf90192",
   "metadata": {},
   "outputs": [
    {
     "name": "stdout",
     "output_type": "stream",
     "text": [
      "              precision    recall  f1-score   support\n",
      "\n",
      "           0       1.00      0.59      0.74      2824\n",
      "           1       0.75      1.00      0.86      3458\n",
      "\n",
      "    accuracy                           0.82      6282\n",
      "   macro avg       0.88      0.80      0.80      6282\n",
      "weighted avg       0.86      0.82      0.81      6282\n",
      "\n",
      "Confusion Matrix (SVM):\n",
      " [[1672 1152]\n",
      " [   0 3458]]\n"
     ]
    }
   ],
   "source": [
    "from sklearn.svm import SVC\n",
    "from sklearn.model_selection import train_test_split\n",
    "from sklearn.metrics import classification_report\n",
    "\n",
    "# Split the resampled data into training and testing sets\n",
    "X_train, X_test, y_train, y_test = train_test_split(X_res, y_res, test_size=0.2, random_state=42)\n",
    "\n",
    "# Initialize and train the SVM classifier\n",
    "svm = SVC(kernel='linear', random_state=42)\n",
    "svm.fit(X_train, y_train)\n",
    "\n",
    "# Predict the test set results\n",
    "y_pred = svm.predict(X_test)\n",
    "\n",
    "# Generate the classification report\n",
    "report = classification_report(y_test, y_pred)\n",
    "print(report)\n",
    "\n",
    "# Print the confusion matrix\n",
    "cm = confusion_matrix(y_test, y_pred)\n",
    "print(\"Confusion Matrix (SVM):\\n\", cm)"
   ]
  },
  {
   "cell_type": "code",
   "execution_count": 11,
   "id": "0ea47ab3-fc18-478a-9e1e-e01cd0b5348b",
   "metadata": {},
   "outputs": [
    {
     "name": "stdout",
     "output_type": "stream",
     "text": [
      "              precision    recall  f1-score   support\n",
      "\n",
      "           0       1.00      0.68      0.81      2824\n",
      "           1       0.79      1.00      0.88      3458\n",
      "\n",
      "    accuracy                           0.86      6282\n",
      "   macro avg       0.90      0.84      0.85      6282\n",
      "weighted avg       0.89      0.86      0.85      6282\n",
      "\n",
      "Confusion Matrix (Decision Tree):\n",
      " [[1917  907]\n",
      " [   0 3458]]\n"
     ]
    }
   ],
   "source": [
    "from sklearn.tree import DecisionTreeClassifier\n",
    "from sklearn.model_selection import train_test_split\n",
    "from sklearn.metrics import classification_report\n",
    "import numpy as np\n",
    "\n",
    "# Split the resampled data into training and testing sets\n",
    "X_train, X_test, y_train, y_test = train_test_split(X_res, y_res, test_size=0.2, random_state=42)\n",
    "\n",
    "# Initialize and train the Decision Tree classifier\n",
    "dt = DecisionTreeClassifier(random_state=42)\n",
    "dt.fit(X_train, y_train)\n",
    "\n",
    "# Predict the test set results\n",
    "y_pred = dt.predict(X_test)\n",
    "\n",
    "# Generate the classification report\n",
    "report = classification_report(y_test, y_pred)\n",
    "print(report)\n",
    "# Print the confusion matrix\n",
    "cm = confusion_matrix(y_test, y_pred)\n",
    "print(\"Confusion Matrix (Decision Tree):\\n\", cm)"
   ]
  },
  {
   "cell_type": "code",
   "execution_count": 12,
   "id": "6c8e2819-1e72-4f71-a4c9-f4f4eeaa264b",
   "metadata": {},
   "outputs": [
    {
     "name": "stdout",
     "output_type": "stream",
     "text": [
      "              precision    recall  f1-score   support\n",
      "\n",
      "           0       1.00      0.68      0.81      2824\n",
      "           1       0.79      1.00      0.88      3458\n",
      "\n",
      "    accuracy                           0.86      6282\n",
      "   macro avg       0.90      0.84      0.85      6282\n",
      "weighted avg       0.89      0.86      0.85      6282\n",
      "\n",
      "Confusion Matrix (Random Forest):\n",
      " [[1917  907]\n",
      " [   0 3458]]\n"
     ]
    }
   ],
   "source": [
    "from sklearn.ensemble import RandomForestClassifier\n",
    "from sklearn.model_selection import train_test_split\n",
    "from sklearn.metrics import classification_report\n",
    "\n",
    "# Split the resampled data into training and testing sets\n",
    "X_train, X_test, y_train, y_test = train_test_split(X_res, y_res, test_size=0.2, random_state=42)\n",
    "\n",
    "# Initialize and train the Random Forest classifier\n",
    "rf = RandomForestClassifier(n_estimators=100, random_state=42)\n",
    "rf.fit(X_train, y_train)\n",
    "\n",
    "# Predict the test set results\n",
    "y_pred = rf.predict(X_test)\n",
    "\n",
    "# Generate the classification report\n",
    "report = classification_report(y_test, y_pred)\n",
    "print(report)\n",
    "# Print the confusion matrix\n",
    "cm = confusion_matrix(y_test, y_pred)\n",
    "print(\"Confusion Matrix (Random Forest):\\n\", cm)"
   ]
  },
  {
   "cell_type": "code",
   "execution_count": null,
   "id": "9fca6370-29b5-4844-973b-3376d5b52131",
   "metadata": {},
   "outputs": [],
   "source": []
  }
 ],
 "metadata": {
  "kernelspec": {
   "display_name": "Python 3 (ipykernel)",
   "language": "python",
   "name": "python3"
  },
  "language_info": {
   "codemirror_mode": {
    "name": "ipython",
    "version": 3
   },
   "file_extension": ".py",
   "mimetype": "text/x-python",
   "name": "python",
   "nbconvert_exporter": "python",
   "pygments_lexer": "ipython3",
   "version": "3.11.7"
  }
 },
 "nbformat": 4,
 "nbformat_minor": 5
}
